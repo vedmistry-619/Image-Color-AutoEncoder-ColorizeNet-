{
  "cells": [
    {
      "cell_type": "code",
      "execution_count": 2,
      "metadata": {
        "id": "ujoucnL92gHz"
      },
      "outputs": [],
      "source": [
        "!wget http://data.csail.mit.edu/places/places205/testSetPlaces205_resize.tar.gz\n",
        "!mkdir images/\n",
        "!tar -xzf drive/MyDrive/testSetPlaces205_resize.tar.gz -C 'images/'"
      ]
    },
    {
      "cell_type": "code",
      "execution_count": 3,
      "metadata": {
        "id": "WLSho49F2gH4"
      },
      "outputs": [],
      "source": [
        "import torch\n",
        "import torch.nn as nn\n",
        "import torch.optim as optim\n",
        "import torchvision.transforms as transforms\n",
        "\n",
        "from tqdm import tqdm\n",
        "from network import ColorizeNet\n",
        "from utils import GrayscaleImageFolder"
      ]
    },
    {
      "cell_type": "code",
      "execution_count": 4,
      "metadata": {
        "id": "uMm3W-rU2gH_"
      },
      "outputs": [],
      "source": [
        "device = torch.device('cuda:0' if torch.cuda.is_available() else 'cpu')"
      ]
    },
    {
      "cell_type": "code",
      "execution_count": 5,
      "metadata": {
        "id": "jBtiwB1F2gIA"
      },
      "outputs": [],
      "source": [
        "transform = transforms.Compose([\n",
        "    transforms.RandomResizedCrop(224),\n",
        "    transforms.RandomHorizontalFlip()\n",
        "])\n",
        "\n",
        "train_set = GrayscaleImageFolder('images/', transform=transform)\n",
        "train_loader = torch.utils.data.DataLoader(train_set, batch_size=128, shuffle=True, num_workers=4)"
      ]
    },
    {
      "cell_type": "code",
      "execution_count": 6,
      "metadata": {
        "id": "UNAp9XJg2gIC"
      },
      "outputs": [],
      "source": [
        "criterion = nn.MSELoss()\n",
        "\n",
        "model = ColorizeNet().to(device)\n",
        "optimizer = optim.Adam(model.parameters(), lr=0.001)\n",
        "scheduler = optim.lr_scheduler.ReduceLROnPlateau(optimizer, factor=1/3, patience=5, verbose=True)"
      ]
    },
    {
      "cell_type": "code",
      "execution_count": 7,
      "metadata": {
        "id": "PQ4DS78jnGwa"
      },
      "outputs": [],
      "source": [
        "try:\n",
        "    checkpoint = torch.load('drive/MyDrive/checkpoint_0.001.pth', map_location=device)\n",
        "    start_epoch = checkpoint['next_epoch']\n",
        "    model.load_state_dict(checkpoint['model'])\n",
        "    optimizer.load_state_dict(checkpoint['optimizer'])\n",
        "    scheduler.load_state_dict(checkpoint['scheduler'])\n",
        "    \n",
        "except:\n",
        "    start_epoch = 0"
      ]
    },
    {
      "cell_type": "code",
      "execution_count": 8,
      "metadata": {
        "colab": {
          "base_uri": "https://localhost:8080/"
        },
        "id": "r6TCmUof2gID",
        "outputId": "a2f747a0-f260-41e3-c820-8c9bdefd41c8"
      },
      "outputs": [
        {
          "name": "stderr",
          "output_type": "stream",
          "text": [
            "Epoch [39/64]: 100%|██████████| 321/321 [12:00<00:00,  2.24s/it, loss=97.4]\n",
            "Epoch [40/64]: 100%|██████████| 321/321 [11:30<00:00,  2.15s/it, loss=98]\n",
            "Epoch [41/64]: 100%|██████████| 321/321 [11:18<00:00,  2.12s/it, loss=97.4]\n",
            "Epoch [42/64]: 100%|██████████| 321/321 [11:28<00:00,  2.15s/it, loss=103]\n",
            "Epoch [43/64]: 100%|██████████| 321/321 [11:23<00:00,  2.13s/it, loss=98.4]\n",
            "Epoch [44/64]: 100%|██████████| 321/321 [11:15<00:00,  2.10s/it, loss=97.3]\n",
            "Epoch [45/64]: 100%|██████████| 321/321 [11:29<00:00,  2.15s/it, loss=97.6]\n",
            "Epoch [46/64]: 100%|██████████| 321/321 [11:25<00:00,  2.14s/it, loss=96.5]\n",
            "Epoch [47/64]: 100%|██████████| 321/321 [11:40<00:00,  2.18s/it, loss=96.7]\n",
            "Epoch [48/64]: 100%|██████████| 321/321 [11:44<00:00,  2.19s/it, loss=96.3]\n",
            "Epoch [49/64]: 100%|██████████| 321/321 [11:13<00:00,  2.10s/it, loss=96.5]\n",
            "Epoch [50/64]: 100%|██████████| 321/321 [11:09<00:00,  2.09s/it, loss=96.4]\n",
            "Epoch [51/64]: 100%|██████████| 321/321 [11:09<00:00,  2.09s/it, loss=95.7]\n",
            "Epoch [52/64]: 100%|██████████| 321/321 [11:13<00:00,  2.10s/it, loss=95.9]\n",
            "Epoch [53/64]: 100%|██████████| 321/321 [11:08<00:00,  2.08s/it, loss=95.8]\n",
            "Epoch [54/64]: 100%|██████████| 321/321 [11:31<00:00,  2.15s/it, loss=95.4]\n",
            "Epoch [55/64]: 100%|██████████| 321/321 [11:54<00:00,  2.23s/it, loss=95.5]\n",
            "Epoch [56/64]: 100%|██████████| 321/321 [12:11<00:00,  2.28s/it, loss=95.5]\n",
            "Epoch [57/64]: 100%|██████████| 321/321 [12:00<00:00,  2.24s/it, loss=94.9]\n",
            "Epoch [58/64]: 100%|██████████| 321/321 [11:54<00:00,  2.23s/it, loss=94.9]\n",
            "Epoch [59/64]: 100%|██████████| 321/321 [11:56<00:00,  2.23s/it, loss=94.9]\n",
            "Epoch [60/64]: 100%|██████████| 321/321 [12:06<00:00,  2.26s/it, loss=94.3]\n",
            "Epoch [61/64]: 100%|██████████| 321/321 [12:03<00:00,  2.26s/it, loss=95]\n",
            "Epoch [62/64]: 100%|██████████| 321/321 [12:01<00:00,  2.25s/it, loss=95]\n",
            "Epoch [63/64]: 100%|██████████| 321/321 [12:05<00:00,  2.26s/it, loss=96.7]\n",
            "Epoch [64/64]: 100%|██████████| 321/321 [12:10<00:00,  2.27s/it, loss=95]\n"
          ]
        }
      ],
      "source": [
        "num_epochs = 64\n",
        "for epoch in range(start_epoch, num_epochs):\n",
        "    train_loss = 0\n",
        "    loop = tqdm(train_loader)\n",
        "    for batch in loop:\n",
        "        in_gray, in_ab = batch[0].to(device), batch[1].to(device)\n",
        "        out_ab = model(in_gray)\n",
        "        loss = criterion(out_ab, in_ab)\n",
        "        optimizer.zero_grad()\n",
        "        loss.backward()\n",
        "        optimizer.step()\n",
        "\n",
        "        train_loss += loss.item()*in_gray.size(0)\n",
        "        loop.set_description(f'Epoch [{epoch+1:2d}/{num_epochs}]')\n",
        "        loop.set_postfix(loss=train_loss)\n",
        "\n",
        "    scheduler.step(train_loss)\n",
        "    checkpoint = {\n",
        "        'next_epoch': epoch + 1,\n",
        "        'model': model.state_dict(),\n",
        "        'optimizer': optimizer.state_dict(),\n",
        "        'scheduler': scheduler.state_dict()\n",
        "    }\n",
        "    torch.save(checkpoint, f'drive/MyDrive/checkpoint_{scheduler._last_lr[0]}.pth')"
      ]
    },
    {
      "cell_type": "code",
      "execution_count": null,
      "metadata": {},
      "outputs": [],
      "source": [
        "torch.save(model.state_dict(), f'./models/model.pth')"
      ]
    }
  ],
  "metadata": {
    "accelerator": "GPU",
    "colab": {
      "collapsed_sections": [],
      "name": "train.ipynb",
      "provenance": []
    },
    "kernelspec": {
      "display_name": "Python 3",
      "name": "python3"
    },
    "orig_nbformat": 2
  },
  "nbformat": 4,
  "nbformat_minor": 0
}
